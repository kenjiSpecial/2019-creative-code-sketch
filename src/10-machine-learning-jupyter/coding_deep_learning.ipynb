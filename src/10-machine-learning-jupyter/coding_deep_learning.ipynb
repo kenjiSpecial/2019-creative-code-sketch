{
 "cells": [
  {
   "cell_type": "markdown",
   "metadata": {},
   "source": [
    "# [まとめ] Coding Deep Learning For Beginners"
   ]
  },
  {
   "cell_type": "markdown",
   "metadata": {},
   "source": [
    "https://towardsdatascience.com/coding-deep-learning-for-beginners-types-of-machine-learning-b9e651e1ed9d"
   ]
  },
  {
   "cell_type": "code",
   "execution_count": 28,
   "metadata": {},
   "outputs": [],
   "source": [
    "import numpy as np\n",
    "\n",
    "import matplotlib.pyplot as plt\n",
    "\n",
    "import pandas as pd\n",
    "\n"
   ]
  },
  {
   "cell_type": "code",
   "execution_count": 29,
   "metadata": {},
   "outputs": [],
   "source": [
    "df_data = pd.read_csv(\"cracow_apartments.csv\", sep=\",\")"
   ]
  },
  {
   "cell_type": "code",
   "execution_count": 30,
   "metadata": {},
   "outputs": [
    {
     "data": {
      "text/html": [
       "<div>\n",
       "<style scoped>\n",
       "    .dataframe tbody tr th:only-of-type {\n",
       "        vertical-align: middle;\n",
       "    }\n",
       "\n",
       "    .dataframe tbody tr th {\n",
       "        vertical-align: top;\n",
       "    }\n",
       "\n",
       "    .dataframe thead th {\n",
       "        text-align: right;\n",
       "    }\n",
       "</style>\n",
       "<table border=\"1\" class=\"dataframe\">\n",
       "  <thead>\n",
       "    <tr style=\"text-align: right;\">\n",
       "      <th></th>\n",
       "      <th>distance_to_city_center</th>\n",
       "      <th>rooms</th>\n",
       "      <th>size</th>\n",
       "      <th>price</th>\n",
       "    </tr>\n",
       "  </thead>\n",
       "  <tbody>\n",
       "    <tr>\n",
       "      <th>0</th>\n",
       "      <td>2.4</td>\n",
       "      <td>1.0</td>\n",
       "      <td>19.35</td>\n",
       "      <td>191.565</td>\n",
       "    </tr>\n",
       "    <tr>\n",
       "      <th>1</th>\n",
       "      <td>2.4</td>\n",
       "      <td>2.0</td>\n",
       "      <td>13.08</td>\n",
       "      <td>221.568</td>\n",
       "    </tr>\n",
       "    <tr>\n",
       "      <th>2</th>\n",
       "      <td>5.0</td>\n",
       "      <td>1.0</td>\n",
       "      <td>24.66</td>\n",
       "      <td>185.936</td>\n",
       "    </tr>\n",
       "    <tr>\n",
       "      <th>3</th>\n",
       "      <td>1.9</td>\n",
       "      <td>1.0</td>\n",
       "      <td>24.82</td>\n",
       "      <td>275.502</td>\n",
       "    </tr>\n",
       "    <tr>\n",
       "      <th>4</th>\n",
       "      <td>1.9</td>\n",
       "      <td>1.0</td>\n",
       "      <td>25.39</td>\n",
       "      <td>241.205</td>\n",
       "    </tr>\n",
       "  </tbody>\n",
       "</table>\n",
       "</div>"
      ],
      "text/plain": [
       "   distance_to_city_center  rooms   size    price\n",
       "0                      2.4    1.0  19.35  191.565\n",
       "1                      2.4    2.0  13.08  221.568\n",
       "2                      5.0    1.0  24.66  185.936\n",
       "3                      1.9    1.0  24.82  275.502\n",
       "4                      1.9    1.0  25.39  241.205"
      ]
     },
     "execution_count": 30,
     "metadata": {},
     "output_type": "execute_result"
    }
   ],
   "source": [
    "df_data.head()"
   ]
  },
  {
   "cell_type": "code",
   "execution_count": 31,
   "metadata": {},
   "outputs": [],
   "source": [
    "def init(n):\n",
    "    return {\"w\": np.zeros(n), \"b\": 0.0}"
   ]
  },
  {
   "cell_type": "code",
   "execution_count": 32,
   "metadata": {},
   "outputs": [],
   "source": [
    "def predict(x, parameters):\n",
    "    # Prediction initial value\n",
    "    prediction = 0\n",
    "    \n",
    "    # Adding multiplication of each feature with it's weight\n",
    "    for weight, feature in zip(parameters[\"w\"], x):\n",
    "        prediction += weight * feature\n",
    "        \n",
    "    # Adding bias\n",
    "    prediction += parameters[\"b\"]\n",
    "        \n",
    "    return prediction"
   ]
  },
  {
   "cell_type": "code",
   "execution_count": 33,
   "metadata": {},
   "outputs": [],
   "source": [
    "features = [\"size\"]"
   ]
  },
  {
   "cell_type": "code",
   "execution_count": 34,
   "metadata": {},
   "outputs": [],
   "source": [
    "target = [\"price\"]"
   ]
  },
  {
   "cell_type": "code",
   "execution_count": 35,
   "metadata": {},
   "outputs": [
    {
     "name": "stdout",
     "output_type": "stream",
     "text": [
      "['size']\n"
     ]
    }
   ],
   "source": [
    "print(features)"
   ]
  },
  {
   "cell_type": "code",
   "execution_count": 36,
   "metadata": {},
   "outputs": [],
   "source": [
    "X, y = df_data[features].values, df_data[target].values"
   ]
  },
  {
   "cell_type": "code",
   "execution_count": 37,
   "metadata": {},
   "outputs": [],
   "source": [
    "n = len(features)"
   ]
  },
  {
   "cell_type": "code",
   "execution_count": 38,
   "metadata": {},
   "outputs": [
    {
     "name": "stdout",
     "output_type": "stream",
     "text": [
      "1\n"
     ]
    }
   ],
   "source": [
    "print(n)"
   ]
  },
  {
   "cell_type": "code",
   "execution_count": 39,
   "metadata": {},
   "outputs": [],
   "source": [
    "model_parameters = init(n)"
   ]
  },
  {
   "cell_type": "code",
   "execution_count": 40,
   "metadata": {},
   "outputs": [
    {
     "name": "stdout",
     "output_type": "stream",
     "text": [
      "{'w': array([0.]), 'b': 0.0}\n"
     ]
    }
   ],
   "source": [
    "print(model_parameters)"
   ]
  },
  {
   "cell_type": "code",
   "execution_count": 41,
   "metadata": {},
   "outputs": [],
   "source": [
    "predictions =[predict(x, model_parameters) for x in X]"
   ]
  },
  {
   "cell_type": "code",
   "execution_count": 42,
   "metadata": {},
   "outputs": [
    {
     "name": "stdout",
     "output_type": "stream",
     "text": [
      "[0.0, 0.0, 0.0, 0.0, 0.0, 0.0, 0.0, 0.0, 0.0, 0.0, 0.0, 0.0, 0.0, 0.0, 0.0, 0.0, 0.0, 0.0, 0.0, 0.0, 0.0, 0.0, 0.0, 0.0, 0.0, 0.0, 0.0, 0.0, 0.0, 0.0, 0.0, 0.0, 0.0, 0.0, 0.0, 0.0, 0.0, 0.0, 0.0, 0.0, 0.0, 0.0, 0.0, 0.0, 0.0, 0.0, 0.0, 0.0, 0.0, 0.0, 0.0, 0.0, 0.0, 0.0, 0.0, 0.0, 0.0, 0.0, 0.0, 0.0, 0.0, 0.0, 0.0, 0.0, 0.0, 0.0, 0.0, 0.0, 0.0, 0.0, 0.0, 0.0, 0.0, 0.0, 0.0, 0.0]\n"
     ]
    }
   ],
   "source": [
    "print(predictions)"
   ]
  },
  {
   "cell_type": "code",
   "execution_count": 43,
   "metadata": {},
   "outputs": [],
   "source": [
    "def mae(predictions, targets):\n",
    "    samples_num = len(predictions)\n",
    "    \n",
    "    accumulated_error = 0.0\n",
    "    for prediction, target in zip(predictions, targets):\n",
    "        accumulated_error += np.abs(prediction - target)\n",
    "        \n",
    "    # Calculating mean\n",
    "    mae_error = (1.0 / samples_num) * accumulated_error\n",
    "    \n",
    "    return mae_error"
   ]
  },
  {
   "cell_type": "code",
   "execution_count": 44,
   "metadata": {},
   "outputs": [],
   "source": [
    "def mse(predictions, targets):\n",
    "    # Retrieving number of samples in dataset\n",
    "    samples_num = len(predictions)\n",
    "    \n",
    "    # Summing square differences between predicted and expected values\n",
    "    accumulated_error = 0.0\n",
    "    for prediction, target in zip(predictions, targets):\n",
    "        accumulated_error += (prediction - target)**2\n",
    "        \n",
    "    # Calculating mean and dividing by 2\n",
    "    mae_error = (1.0 / (2*samples_num)) * accumulated_error\n",
    "    \n",
    "    return mae_error"
   ]
  },
  {
   "cell_type": "code",
   "execution_count": 45,
   "metadata": {},
   "outputs": [],
   "source": [
    "orange_parameters = {'b': 200, 'w': np.array([3.0])}"
   ]
  },
  {
   "cell_type": "code",
   "execution_count": 46,
   "metadata": {},
   "outputs": [],
   "source": [
    "lime_parameters = {'b': -160, 'w': np.array([12.0])}"
   ]
  },
  {
   "cell_type": "code",
   "execution_count": 47,
   "metadata": {},
   "outputs": [
    {
     "name": "stdout",
     "output_type": "stream",
     "text": [
      "{'b': 200, 'w': array([3.])}\n"
     ]
    }
   ],
   "source": [
    "print(orange_parameters)"
   ]
  },
  {
   "cell_type": "code",
   "execution_count": 48,
   "metadata": {},
   "outputs": [],
   "source": [
    "orange_pred = [predict(x, orange_parameters) for x in X]"
   ]
  },
  {
   "cell_type": "code",
   "execution_count": 49,
   "metadata": {},
   "outputs": [],
   "source": [
    "lime_pred = [predict(x, lime_parameters) for x in X]"
   ]
  },
  {
   "cell_type": "code",
   "execution_count": 50,
   "metadata": {},
   "outputs": [],
   "source": [
    "mse_orange_error = mse(orange_pred, y)"
   ]
  },
  {
   "cell_type": "code",
   "execution_count": 51,
   "metadata": {},
   "outputs": [],
   "source": [
    "mse_lime_error = mse(lime_pred, y)"
   ]
  },
  {
   "cell_type": "code",
   "execution_count": 52,
   "metadata": {},
   "outputs": [
    {
     "name": "stdout",
     "output_type": "stream",
     "text": [
      "[10409.77363504]\n"
     ]
    }
   ],
   "source": [
    "print(mse_lime_error)"
   ]
  },
  {
   "cell_type": "code",
   "execution_count": 53,
   "metadata": {},
   "outputs": [],
   "source": [
    "from copy import deepcopy"
   ]
  },
  {
   "cell_type": "code",
   "execution_count": 54,
   "metadata": {},
   "outputs": [
    {
     "ename": "NameError",
     "evalue": "name 'train' is not defined",
     "output_type": "error",
     "traceback": [
      "\u001b[1;31m---------------------------------------------------------------------------\u001b[0m",
      "\u001b[1;31mNameError\u001b[0m                                 Traceback (most recent call last)",
      "\u001b[1;32m<ipython-input-54-3ac8e3affeb3>\u001b[0m in \u001b[0;36m<module>\u001b[1;34m\u001b[0m\n\u001b[1;32m----> 1\u001b[1;33m \u001b[0mtrain\u001b[0m\u001b[1;33m(\u001b[0m\u001b[0mX\u001b[0m\u001b[1;33m,\u001b[0m \u001b[0my\u001b[0m\u001b[1;33m,\u001b[0m \u001b[0mmodel_parameters\u001b[0m\u001b[1;33m)\u001b[0m\u001b[1;33m\u001b[0m\u001b[1;33m\u001b[0m\u001b[0m\n\u001b[0m",
      "\u001b[1;31mNameError\u001b[0m: name 'train' is not defined"
     ]
    }
   ],
   "source": [
    "train(X, y, model_parameters)"
   ]
  },
  {
   "cell_type": "markdown",
   "metadata": {},
   "source": [
    "https://towardsdatascience.com/coding-deep-learning-for-beginners-linear-regression-gradient-descent-fcd5e0fc077d"
   ]
  },
  {
   "cell_type": "code",
   "execution_count": 55,
   "metadata": {},
   "outputs": [],
   "source": [
    "def train2(X, y, model_parameters, learning_rate=0.0005, iterations=20000):\n",
    "    # Make prediction for every data sample\n",
    "    predictions = [predict(x, model_parameters) for x in X]\n",
    "\n",
    "    # Calculate initial cost for model - MSE\n",
    "    initial_error = mse(predictions, y)\n",
    "    \n",
    "    print(\"Initial state:\")\n",
    "    print(\" - error: {}\".format(initial_error))\n",
    "    print(\" - parameters: {}\".format(model_parameters))\n",
    "    \n",
    "    for i in range(iterations):\n",
    "        # Sum up partial gradients for every data sample, for every parameter in model\n",
    "        accumulated_grad_w0 = 0\n",
    "        accumulated_grad_b = 0   \n",
    "        for x, y_target in zip(X, y):\n",
    "            accumulated_grad_w0 += (predict(x, model_parameters) - y_target)*x[0]\n",
    "            accumulated_grad_b += (predict(x, model_parameters) - y_target)\n",
    "            \n",
    "        # Calculate mean of gradient\n",
    "        w_grad = (1.0/len(X)) * accumulated_grad_w0\n",
    "        b_grad = (1.0/len(X)) * accumulated_grad_b\n",
    "        \n",
    "        # Update parameters by small part of averaged gradient\n",
    "        model_parameters[\"w\"][0] = model_parameters[\"w\"][0] - learning_rate * w_grad\n",
    "        model_parameters[\"b\"] = model_parameters[\"b\"] - learning_rate * b_grad\n",
    "        \n",
    "        if i % 4000 == 0:\n",
    "            print(\"\\nIteration {}:\".format(i))\n",
    "            print(\" - error: {}\".format(mse([predict(x, model_parameters) for x in X], y)))\n",
    "            print(\" - parameters: {}\".format(model_parameters))\n",
    "            \n",
    "    print(\"\\nFinal state:\")\n",
    "    print(\" - error: {}\".format(mse([predict(x, model_parameters) for x in X], y)))\n",
    "    print(\" - parameters: {}\".format(model_parameters))"
   ]
  },
  {
   "cell_type": "code",
   "execution_count": 56,
   "metadata": {},
   "outputs": [
    {
     "name": "stdout",
     "output_type": "stream",
     "text": [
      "Initial state:\n",
      " - error: [75870.4884482]\n",
      " - parameters: {'w': array([0.]), 'b': 0.0}\n",
      "\n",
      "Iteration 0:\n",
      " - error: [13536.3070032]\n",
      " - parameters: {'w': array([10.17501967]), 'b': array([0.17843399])}\n",
      "\n",
      "Iteration 4000:\n",
      " - error: [1737.28457739]\n",
      " - parameters: {'w': array([7.09101188]), 'b': array([10.96966037])}\n",
      "\n",
      "Iteration 8000:\n",
      " - error: [1707.33242182]\n",
      " - parameters: {'w': array([6.9583785]), 'b': array([18.67110985])}\n",
      "\n",
      "Iteration 12000:\n",
      " - error: [1692.21685452]\n",
      " - parameters: {'w': array([6.86415678]), 'b': array([24.14215949])}\n",
      "\n",
      "Iteration 16000:\n",
      " - error: [1684.5886765]\n",
      " - parameters: {'w': array([6.79722241]), 'b': array([28.02875048])}\n",
      "\n",
      "Final state:\n",
      " - error: [1680.73973307]\n",
      " - parameters: {'w': array([6.74968272]), 'b': array([30.78917543])}\n"
     ]
    }
   ],
   "source": [
    "train2(X, y, model_parameters)"
   ]
  },
  {
   "cell_type": "code",
   "execution_count": null,
   "metadata": {},
   "outputs": [],
   "source": [
    "from "
   ]
  }
 ],
 "metadata": {
  "kernelspec": {
   "display_name": "Python 3",
   "language": "python",
   "name": "python3"
  },
  "language_info": {
   "codemirror_mode": {
    "name": "ipython",
    "version": 3
   },
   "file_extension": ".py",
   "mimetype": "text/x-python",
   "name": "python",
   "nbconvert_exporter": "python",
   "pygments_lexer": "ipython3",
   "version": "3.7.3"
  }
 },
 "nbformat": 4,
 "nbformat_minor": 4
}
